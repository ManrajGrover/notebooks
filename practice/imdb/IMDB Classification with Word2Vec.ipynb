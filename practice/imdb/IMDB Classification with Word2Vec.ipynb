{
 "cells": [
  {
   "cell_type": "code",
   "execution_count": 1,
   "metadata": {},
   "outputs": [],
   "source": [
    "from __future__ import print_function\n",
    "\n",
    "import warnings\n",
    "warnings.filterwarnings(\"ignore\")\n",
    "\n",
    "import logging\n",
    "import numpy as np\n",
    "\n",
    "%matplotlib inline"
   ]
  },
  {
   "cell_type": "markdown",
   "metadata": {},
   "source": [
    "### Setting up random state for reproducibility"
   ]
  },
  {
   "cell_type": "code",
   "execution_count": 2,
   "metadata": {},
   "outputs": [],
   "source": [
    "RANDOM_STATE = 1234\n",
    "np.random.seed(RANDOM_STATE)"
   ]
  },
  {
   "cell_type": "markdown",
   "metadata": {},
   "source": [
    "### Setting up logger"
   ]
  },
  {
   "cell_type": "code",
   "execution_count": 3,
   "metadata": {},
   "outputs": [],
   "source": [
    "# Logging configuration\n",
    "\n",
    "logger = logging.getLogger(__name__)\n",
    "\n",
    "handler = logging.StreamHandler()\n",
    "formatter = logging.Formatter('%(asctime)s %(name)-5s %(levelname)-5s %(message)s')\n",
    "handler.setFormatter(formatter)\n",
    "logger.addHandler(handler)\n",
    "logger.setLevel(logging.DEBUG)"
   ]
  },
  {
   "cell_type": "markdown",
   "metadata": {},
   "source": [
    "### Defining constants"
   ]
  },
  {
   "cell_type": "code",
   "execution_count": 4,
   "metadata": {},
   "outputs": [],
   "source": [
    "VOCABULARY_SIZE = 5000\n",
    "EMBEDDING_SIZE = 300\n",
    "BATCH_SIZE = 64\n",
    "NUM_EPOCHS = 10\n",
    "MAX_REVIEW_LENGTH = 300"
   ]
  },
  {
   "cell_type": "markdown",
   "metadata": {},
   "source": [
    "### Load Word2Vec model\n",
    "\n",
    "\n",
    "Following code loads Word2Vec model for getting embeddings for words"
   ]
  },
  {
   "cell_type": "code",
   "execution_count": 5,
   "metadata": {},
   "outputs": [],
   "source": [
    "from gensim.models import KeyedVectors\n",
    "\n",
    "w2v = KeyedVectors.load_word2vec_format('~/embeddings/GoogleNews-vectors-negative300.bin', binary=True)"
   ]
  },
  {
   "cell_type": "markdown",
   "metadata": {},
   "source": [
    "### Restrict maximum features\n",
    "\n",
    "We restrict the maximum number of features a.k.a. our inputs to be 5000. So only top 5000 words will be chosen from IMDB dataset. `load_data` automatically does a 50:50 train test split."
   ]
  },
  {
   "cell_type": "code",
   "execution_count": 6,
   "metadata": {},
   "outputs": [
    {
     "name": "stderr",
     "output_type": "stream",
     "text": [
      "Using TensorFlow backend.\n"
     ]
    }
   ],
   "source": [
    "from keras.datasets import imdb\n",
    "\n",
    "(x_train, y_train), (x_test, y_test) = imdb.load_data(num_words=VOCABULARY_SIZE)"
   ]
  },
  {
   "cell_type": "code",
   "execution_count": 7,
   "metadata": {},
   "outputs": [
    {
     "name": "stderr",
     "output_type": "stream",
     "text": [
      "2018-04-22 16:54:49,589 __main__ DEBUG Length of X_train: 25000\n",
      "2018-04-22 16:54:49,590 __main__ DEBUG Length of X_test: 25000\n"
     ]
    }
   ],
   "source": [
    "logger.debug('Length of X_train: %(len)s', {'len': len(x_train)})\n",
    "logger.debug('Length of X_test: %(len)s', {'len': len(x_test)})"
   ]
  },
  {
   "cell_type": "code",
   "execution_count": 8,
   "metadata": {},
   "outputs": [],
   "source": [
    "from keras.preprocessing import sequence\n",
    "\n",
    "X_train = sequence.pad_sequences(x_train, maxlen=MAX_REVIEW_LENGTH)\n",
    "X_test = sequence.pad_sequences(x_test, maxlen=MAX_REVIEW_LENGTH)"
   ]
  },
  {
   "cell_type": "code",
   "execution_count": 9,
   "metadata": {},
   "outputs": [
    {
     "name": "stderr",
     "output_type": "stream",
     "text": [
      "2018-04-22 16:54:50,459 __main__ DEBUG Shape of X_train: (25000, 300)\n",
      "2018-04-22 16:54:50,460 __main__ DEBUG Shape of X_test: (25000, 300)\n"
     ]
    }
   ],
   "source": [
    "logger.debug('Shape of X_train: %(shape)s', {'shape': X_train.shape})\n",
    "logger.debug('Shape of X_test: %(shape)s', {'shape': X_test.shape})"
   ]
  },
  {
   "cell_type": "markdown",
   "metadata": {},
   "source": [
    "### Embedding matrix"
   ]
  },
  {
   "cell_type": "code",
   "execution_count": 10,
   "metadata": {},
   "outputs": [],
   "source": [
    "word_to_index = imdb.get_word_index()"
   ]
  },
  {
   "cell_type": "code",
   "execution_count": 11,
   "metadata": {},
   "outputs": [],
   "source": [
    "index_to_word = {v : k  for k, v in word_to_index.items()}"
   ]
  },
  {
   "cell_type": "code",
   "execution_count": 12,
   "metadata": {},
   "outputs": [],
   "source": [
    "embedding_weights = np.zeros((VOCABULARY_SIZE, EMBEDDING_SIZE))\n",
    "\n",
    "null_embeddings = 0\n",
    "for word, index in word_to_index.items():\n",
    "    if index > VOCABULARY_SIZE:\n",
    "        continue\n",
    "\n",
    "    try:\n",
    "        embedding_weights[index, :] = w2v[word]\n",
    "    except KeyError:\n",
    "        null_embeddings += 1 # Keep count of null embeddings"
   ]
  },
  {
   "cell_type": "code",
   "execution_count": 13,
   "metadata": {},
   "outputs": [
    {
     "data": {
      "text/plain": [
       "154"
      ]
     },
     "execution_count": 13,
     "metadata": {},
     "output_type": "execute_result"
    }
   ],
   "source": [
    "null_embeddings"
   ]
  },
  {
   "cell_type": "markdown",
   "metadata": {},
   "source": [
    "### Simple LSTM"
   ]
  },
  {
   "cell_type": "code",
   "execution_count": 14,
   "metadata": {},
   "outputs": [],
   "source": [
    "from keras.models import Sequential\n",
    "from keras.layers import Dense, LSTM\n",
    "from keras.layers.embeddings import Embedding\n",
    "\n",
    "model = Sequential()\n",
    "model.add(Embedding(VOCABULARY_SIZE, EMBEDDING_SIZE, weights=[embedding_weights], trainable=True))\n",
    "model.add(LSTM(128, dropout = 0.5, recurrent_dropout=0.5))\n",
    "model.add(Dense(1, activation='sigmoid', kernel_initializer='glorot_normal'))\n",
    "\n",
    "model.compile(loss='binary_crossentropy', optimizer='adam', metrics=['accuracy'])"
   ]
  },
  {
   "cell_type": "code",
   "execution_count": 15,
   "metadata": {},
   "outputs": [
    {
     "name": "stdout",
     "output_type": "stream",
     "text": [
      "_________________________________________________________________\n",
      "Layer (type)                 Output Shape              Param #   \n",
      "=================================================================\n",
      "embedding_1 (Embedding)      (None, None, 300)         1500000   \n",
      "_________________________________________________________________\n",
      "lstm_1 (LSTM)                (None, 128)               219648    \n",
      "_________________________________________________________________\n",
      "dense_1 (Dense)              (None, 1)                 129       \n",
      "=================================================================\n",
      "Total params: 1,719,777\n",
      "Trainable params: 1,719,777\n",
      "Non-trainable params: 0\n",
      "_________________________________________________________________\n"
     ]
    }
   ],
   "source": [
    "model.summary()"
   ]
  },
  {
   "cell_type": "code",
   "execution_count": 16,
   "metadata": {},
   "outputs": [
    {
     "name": "stdout",
     "output_type": "stream",
     "text": [
      "Train on 25000 samples, validate on 25000 samples\n",
      "Epoch 1/10\n",
      "25000/25000 [==============================] - 149s 6ms/step - loss: 0.5707 - acc: 0.6920 - val_loss: 0.4279 - val_acc: 0.8175\n",
      "Epoch 2/10\n",
      "25000/25000 [==============================] - 149s 6ms/step - loss: 0.4285 - acc: 0.8065 - val_loss: 0.4274 - val_acc: 0.8156\n",
      "Epoch 3/10\n",
      "25000/25000 [==============================] - 149s 6ms/step - loss: 0.3728 - acc: 0.8410 - val_loss: 0.3397 - val_acc: 0.8549\n",
      "Epoch 4/10\n",
      "25000/25000 [==============================] - 149s 6ms/step - loss: 0.3161 - acc: 0.8683 - val_loss: 0.3110 - val_acc: 0.8760\n",
      "Epoch 5/10\n",
      "25000/25000 [==============================] - 150s 6ms/step - loss: 0.2750 - acc: 0.8882 - val_loss: 0.3297 - val_acc: 0.8717\n",
      "Epoch 6/10\n",
      "25000/25000 [==============================] - 149s 6ms/step - loss: 0.2407 - acc: 0.9043 - val_loss: 0.2973 - val_acc: 0.8826\n",
      "Epoch 7/10\n",
      "25000/25000 [==============================] - 149s 6ms/step - loss: 0.2078 - acc: 0.9168 - val_loss: 0.3062 - val_acc: 0.8850\n",
      "Epoch 8/10\n",
      "25000/25000 [==============================] - 149s 6ms/step - loss: 0.1852 - acc: 0.9271 - val_loss: 0.3328 - val_acc: 0.8817\n",
      "Epoch 9/10\n",
      "25000/25000 [==============================] - 150s 6ms/step - loss: 0.1630 - acc: 0.9354 - val_loss: 0.3242 - val_acc: 0.8771\n",
      "Epoch 10/10\n",
      "25000/25000 [==============================] - 149s 6ms/step - loss: 0.1437 - acc: 0.9455 - val_loss: 0.3338 - val_acc: 0.8803\n"
     ]
    },
    {
     "data": {
      "text/plain": [
       "<keras.callbacks.History at 0x7f111cfe34a8>"
      ]
     },
     "execution_count": 16,
     "metadata": {},
     "output_type": "execute_result"
    }
   ],
   "source": [
    "model.fit(X_train, y_train, batch_size=BATCH_SIZE, epochs=NUM_EPOCHS, validation_data=(X_test, y_test))"
   ]
  },
  {
   "cell_type": "code",
   "execution_count": null,
   "metadata": {},
   "outputs": [],
   "source": []
  }
 ],
 "metadata": {
  "kernelspec": {
   "display_name": "Python 3",
   "language": "python",
   "name": "python3"
  },
  "language_info": {
   "codemirror_mode": {
    "name": "ipython",
    "version": 3
   },
   "file_extension": ".py",
   "mimetype": "text/x-python",
   "name": "python",
   "nbconvert_exporter": "python",
   "pygments_lexer": "ipython3",
   "version": "3.6.3"
  }
 },
 "nbformat": 4,
 "nbformat_minor": 2
}

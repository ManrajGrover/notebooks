{
 "cells": [
  {
   "cell_type": "code",
   "execution_count": 1,
   "metadata": {},
   "outputs": [],
   "source": [
    "from __future__ import print_function\n",
    "\n",
    "import warnings\n",
    "warnings.filterwarnings(\"ignore\")\n",
    "\n",
    "import logging\n",
    "import numpy as np\n",
    "\n",
    "%matplotlib inline"
   ]
  },
  {
   "cell_type": "markdown",
   "metadata": {},
   "source": [
    "### Setting up random state for reproducibility"
   ]
  },
  {
   "cell_type": "code",
   "execution_count": 2,
   "metadata": {},
   "outputs": [],
   "source": [
    "RANDOM_STATE = 1234\n",
    "np.random.seed(RANDOM_STATE)"
   ]
  },
  {
   "cell_type": "markdown",
   "metadata": {},
   "source": [
    "### Setting up logger"
   ]
  },
  {
   "cell_type": "code",
   "execution_count": 3,
   "metadata": {},
   "outputs": [],
   "source": [
    "# Logging configuration\n",
    "\n",
    "logger = logging.getLogger(__name__)\n",
    "\n",
    "handler = logging.StreamHandler()\n",
    "formatter = logging.Formatter('%(asctime)s %(name)-5s %(levelname)-5s %(message)s')\n",
    "handler.setFormatter(formatter)\n",
    "logger.addHandler(handler)\n",
    "logger.setLevel(logging.DEBUG)"
   ]
  },
  {
   "cell_type": "markdown",
   "metadata": {},
   "source": [
    "### Restrict maximum features\n",
    "\n",
    "We restrict the maximum number of features a.k.a. our inputs to be 5000. So only top 5000 words will be chosen from IMDB dataset. `load_data` automatically does a 50:50 train test split."
   ]
  },
  {
   "cell_type": "code",
   "execution_count": 4,
   "metadata": {},
   "outputs": [],
   "source": [
    "max_features = 5000\n",
    "max_review_length = 300"
   ]
  },
  {
   "cell_type": "code",
   "execution_count": 5,
   "metadata": {},
   "outputs": [
    {
     "name": "stderr",
     "output_type": "stream",
     "text": [
      "Using TensorFlow backend.\n"
     ]
    },
    {
     "name": "stdout",
     "output_type": "stream",
     "text": [
      "Downloading data from https://s3.amazonaws.com/text-datasets/imdb.npz\n",
      "17465344/17464789 [==============================] - 70s 4us/step\n"
     ]
    }
   ],
   "source": [
    "from keras.datasets import imdb\n",
    "\n",
    "(x_train, y_train), (x_test, y_test) = imdb.load_data(num_words=max_features)"
   ]
  },
  {
   "cell_type": "code",
   "execution_count": 6,
   "metadata": {},
   "outputs": [
    {
     "name": "stderr",
     "output_type": "stream",
     "text": [
      "2018-04-18 12:17:18,452 __main__ DEBUG Length of X_train: 25000\n",
      "2018-04-18 12:17:18,453 __main__ DEBUG Length of X_test: 25000\n"
     ]
    }
   ],
   "source": [
    "logger.debug('Length of X_train: %(len)s', {'len': len(x_train)})\n",
    "logger.debug('Length of X_test: %(len)s', {'len': len(x_test)})"
   ]
  },
  {
   "cell_type": "code",
   "execution_count": 7,
   "metadata": {},
   "outputs": [],
   "source": [
    "from keras.preprocessing import sequence\n",
    "\n",
    "X_train = sequence.pad_sequences(x_train, maxlen=max_review_length)\n",
    "X_test = sequence.pad_sequences(x_test, maxlen=max_review_length)"
   ]
  },
  {
   "cell_type": "code",
   "execution_count": 8,
   "metadata": {},
   "outputs": [
    {
     "name": "stderr",
     "output_type": "stream",
     "text": [
      "2018-04-18 12:17:19,192 __main__ DEBUG Shape of X_train: (25000, 300)\n",
      "2018-04-18 12:17:19,193 __main__ DEBUG Shape of X_test: (25000, 300)\n"
     ]
    }
   ],
   "source": [
    "logger.debug('Shape of X_train: %(shape)s', {'shape': X_train.shape})\n",
    "logger.debug('Shape of X_test: %(shape)s', {'shape': X_test.shape})"
   ]
  },
  {
   "cell_type": "markdown",
   "metadata": {},
   "source": [
    "### Simple LSTM"
   ]
  },
  {
   "cell_type": "code",
   "execution_count": 9,
   "metadata": {},
   "outputs": [],
   "source": [
    "from keras.models import Sequential\n",
    "from keras.layers import Dense, LSTM\n",
    "from keras.layers.embeddings import Embedding\n",
    "\n",
    "model = Sequential()\n",
    "model.add(Embedding(max_features, 128, embeddings_initializer='glorot_normal'))\n",
    "model.add(LSTM(128, dropout = 0.5, recurrent_dropout=0.5))\n",
    "model.add(Dense(1, activation='sigmoid', kernel_initializer='glorot_normal'))\n",
    "\n",
    "model.compile(loss='binary_crossentropy', optimizer='adam', metrics=['accuracy'])"
   ]
  },
  {
   "cell_type": "code",
   "execution_count": 10,
   "metadata": {},
   "outputs": [
    {
     "name": "stdout",
     "output_type": "stream",
     "text": [
      "_________________________________________________________________\n",
      "Layer (type)                 Output Shape              Param #   \n",
      "=================================================================\n",
      "embedding_1 (Embedding)      (None, None, 128)         640000    \n",
      "_________________________________________________________________\n",
      "lstm_1 (LSTM)                (None, 128)               131584    \n",
      "_________________________________________________________________\n",
      "dense_1 (Dense)              (None, 1)                 129       \n",
      "=================================================================\n",
      "Total params: 771,713\n",
      "Trainable params: 771,713\n",
      "Non-trainable params: 0\n",
      "_________________________________________________________________\n"
     ]
    }
   ],
   "source": [
    "model.summary()"
   ]
  },
  {
   "cell_type": "code",
   "execution_count": 11,
   "metadata": {},
   "outputs": [
    {
     "name": "stdout",
     "output_type": "stream",
     "text": [
      "Train on 25000 samples, validate on 25000 samples\n",
      "Epoch 1/10\n",
      "25000/25000 [==============================] - 153s 6ms/step - loss: 0.5174 - acc: 0.7424 - val_loss: 0.4292 - val_acc: 0.8158\n",
      "Epoch 2/10\n",
      "25000/25000 [==============================] - 152s 6ms/step - loss: 0.4239 - acc: 0.8142 - val_loss: 0.4138 - val_acc: 0.8218\n",
      "Epoch 3/10\n",
      "25000/25000 [==============================] - 152s 6ms/step - loss: 0.3974 - acc: 0.8271 - val_loss: 0.3910 - val_acc: 0.8348\n",
      "Epoch 4/10\n",
      "25000/25000 [==============================] - 152s 6ms/step - loss: 0.3840 - acc: 0.8342 - val_loss: 0.3939 - val_acc: 0.8379\n",
      "Epoch 5/10\n",
      "25000/25000 [==============================] - 152s 6ms/step - loss: 0.3459 - acc: 0.8538 - val_loss: 0.4105 - val_acc: 0.8308\n",
      "Epoch 6/10\n",
      "25000/25000 [==============================] - 152s 6ms/step - loss: 0.3247 - acc: 0.8640 - val_loss: 0.3897 - val_acc: 0.8380\n",
      "Epoch 7/10\n",
      "25000/25000 [==============================] - 153s 6ms/step - loss: 0.3384 - acc: 0.8574 - val_loss: 0.4111 - val_acc: 0.8320\n",
      "Epoch 8/10\n",
      "25000/25000 [==============================] - 152s 6ms/step - loss: 0.3078 - acc: 0.8752 - val_loss: 0.3487 - val_acc: 0.8613\n",
      "Epoch 9/10\n",
      "25000/25000 [==============================] - 152s 6ms/step - loss: 0.2804 - acc: 0.8870 - val_loss: 0.3449 - val_acc: 0.8594\n",
      "Epoch 10/10\n",
      "25000/25000 [==============================] - 154s 6ms/step - loss: 0.2554 - acc: 0.8984 - val_loss: 0.3839 - val_acc: 0.8684\n"
     ]
    },
    {
     "data": {
      "text/plain": [
       "<keras.callbacks.History at 0x7f76539d5c88>"
      ]
     },
     "execution_count": 11,
     "metadata": {},
     "output_type": "execute_result"
    }
   ],
   "source": [
    "model.fit(X_train, y_train, batch_size=64, epochs=10, validation_data=(X_test, y_test))"
   ]
  },
  {
   "cell_type": "code",
   "execution_count": null,
   "metadata": {},
   "outputs": [],
   "source": []
  }
 ],
 "metadata": {
  "kernelspec": {
   "display_name": "Python 3",
   "language": "python",
   "name": "python3"
  },
  "language_info": {
   "codemirror_mode": {
    "name": "ipython",
    "version": 3
   },
   "file_extension": ".py",
   "mimetype": "text/x-python",
   "name": "python",
   "nbconvert_exporter": "python",
   "pygments_lexer": "ipython3",
   "version": "3.6.3"
  }
 },
 "nbformat": 4,
 "nbformat_minor": 2
}
